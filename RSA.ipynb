{
 "cells": [
  {
   "cell_type": "code",
   "execution_count": 42,
   "metadata": {},
   "outputs": [
    {
     "name": "stdout",
     "output_type": "stream",
     "text": [
      "Enter a message to encrypt: &*^\n",
      "\n",
      "Ϭ^\n",
      "\n",
      "&*^\n"
     ]
    }
   ],
   "source": [
    "def init():\n",
    "    try:\n",
    "       input = raw_input\n",
    "    except NameError:\n",
    "       pass\n",
    "    try:\n",
    "       chr = unichr\n",
    "    except NameError:\n",
    "       pass\n",
    "    p=47\n",
    "    q=31\n",
    "    n=p*q\n",
    "    phi=(p-1)*(q-1)\n",
    "    \n",
    "def egcd(a, b):\n",
    "    if a == 0:\n",
    "        return b, 0, 1\n",
    "    else:\n",
    "        g, y, x = egcd(b % a, a)\n",
    "        return g, x - (b // a) * y, y\n",
    "    \n",
    "def modinv(a, m):\n",
    "    g, x, y = egcd(a, m)\n",
    "    if g != 1:\n",
    "        return None\n",
    "    else:\n",
    "        return x % m\n",
    "\n",
    "def encrypt_block(m):\n",
    "    c = modinv(m**e, n)\n",
    "    if c == None: \n",
    "        return ord(org_char)\n",
    "    return c\n",
    "def decrypt_block(c):\n",
    "    m = modinv(c**d, n)\n",
    "    if m == None: \n",
    "        return ord(org_char)\n",
    "    return m\n",
    "\n",
    "def encrypt_string(s):\n",
    "    e=7\n",
    "    enc_list = []\n",
    "    for x in list(s):        \n",
    "        global org_char\n",
    "        org_char = x\n",
    "        enc_list.append(chr(encrypt_block(ord(org_char))))\n",
    "    return ''.join(enc_list)\n",
    "def decrypt_string(s):\n",
    "    d=modinv(e,phi)\n",
    "    dec_list = []\n",
    "    for x in list(s):        \n",
    "        global org_char\n",
    "        org_char = x\n",
    "        dec_list.append(chr(decrypt_block(ord(org_char))))\n",
    "    return ''.join(dec_list)\n",
    "\n",
    "s = input(\"Enter a message to encrypt: \")\n",
    "enc = encrypt_string(s)\n",
    "print(enc)\n",
    "dec = decrypt_string(enc)\n",
    "print(\"\\n\"+dec)"
   ]
  },
  {
   "cell_type": "code",
   "execution_count": null,
   "metadata": {},
   "outputs": [],
   "source": []
  }
 ],
 "metadata": {
  "kernelspec": {
   "display_name": "Python 3",
   "language": "python",
   "name": "python3"
  },
  "language_info": {
   "codemirror_mode": {
    "name": "ipython",
    "version": 3
   },
   "file_extension": ".py",
   "mimetype": "text/x-python",
   "name": "python",
   "nbconvert_exporter": "python",
   "pygments_lexer": "ipython3",
   "version": "3.6.10"
  }
 },
 "nbformat": 4,
 "nbformat_minor": 4
}
